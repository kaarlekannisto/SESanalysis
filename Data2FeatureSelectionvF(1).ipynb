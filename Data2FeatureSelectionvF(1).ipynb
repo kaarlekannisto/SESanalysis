{
 "cells": [
  {
   "cell_type": "code",
   "execution_count": 1,
   "metadata": {},
   "outputs": [],
   "source": [
    "%matplotlib inline\n",
    "import pandas as pd\n",
    "import numpy as np\n",
    "import itertools\n",
    "import time\n",
    "import statsmodels.api as sm\n",
    "import matplotlib.pyplot as plt\n",
    "\n",
    "from sklearn.preprocessing import scale \n",
    "from sklearn.model_selection import train_test_split\n",
    "from sklearn.linear_model import Ridge, RidgeCV, Lasso, LassoCV\n",
    "from sklearn.metrics import mean_squared_error"
   ]
  },
  {
   "cell_type": "code",
   "execution_count": 2,
   "metadata": {},
   "outputs": [],
   "source": [
    "%config Completer.use_jedi = False"
   ]
  },
  {
   "cell_type": "code",
   "execution_count": 3,
   "metadata": {},
   "outputs": [
    {
     "data": {
      "text/html": [
       "<style  type=\"text/css\" >\n",
       "</style><table id=\"T_de91e3a8_79c4_11eb_83e1_d737e555df7d\" ><thead>    <tr>        <th class=\"blank level0\" ></th>        <th class=\"col_heading level0 col0\" >CO_COUNTRY</th>        <th class=\"col_heading level0 col1\" >BUDGET</th>        <th class=\"col_heading level0 col2\" >TOTAL_SUPPORT</th>        <th class=\"col_heading level0 col3\" >PRODUCTION_SUPPORT</th>        <th class=\"col_heading level0 col4\" >DISTRIBUTION_SUPPORT</th>        <th class=\"col_heading level0 col5\" >NAME_LENGTH</th>        <th class=\"col_heading level0 col6\" >PREMIERE_1</th>        <th class=\"col_heading level0 col7\" >PREMIERE_2</th>        <th class=\"col_heading level0 col8\" >PREMIERE_3</th>        <th class=\"col_heading level0 col9\" >PREMIERE_4</th>        <th class=\"col_heading level0 col10\" >PREMIERE_5</th>        <th class=\"col_heading level0 col11\" >PREMIERE_6</th>        <th class=\"col_heading level0 col12\" >PREMIERE_7</th>        <th class=\"col_heading level0 col13\" >PREMIERE_8</th>        <th class=\"col_heading level0 col14\" >PREMIERE_9</th>        <th class=\"col_heading level0 col15\" >PREMIERE_10</th>        <th class=\"col_heading level0 col16\" >PREMIERE_11</th>        <th class=\"col_heading level0 col17\" >PREMIERE_12</th>        <th class=\"col_heading level0 col18\" >Action</th>        <th class=\"col_heading level0 col19\" >Adventure</th>        <th class=\"col_heading level0 col20\" >Animation</th>        <th class=\"col_heading level0 col21\" >Biography</th>        <th class=\"col_heading level0 col22\" >Comedy</th>        <th class=\"col_heading level0 col23\" >Crime</th>        <th class=\"col_heading level0 col24\" >Documentary</th>        <th class=\"col_heading level0 col25\" >Drama</th>        <th class=\"col_heading level0 col26\" >Family</th>        <th class=\"col_heading level0 col27\" >Fantasy</th>        <th class=\"col_heading level0 col28\" >History</th>        <th class=\"col_heading level0 col29\" >Horror</th>        <th class=\"col_heading level0 col30\" >Music</th>        <th class=\"col_heading level0 col31\" >Musical</th>        <th class=\"col_heading level0 col32\" >Mystery</th>        <th class=\"col_heading level0 col33\" >Romance</th>        <th class=\"col_heading level0 col34\" >Sci-Fi</th>        <th class=\"col_heading level0 col35\" >Sport</th>        <th class=\"col_heading level0 col36\" >Thriller</th>        <th class=\"col_heading level0 col37\" >War</th>        <th class=\"col_heading level0 col38\" >LENGTH60</th>        <th class=\"col_heading level0 col39\" >LENGTH90</th>        <th class=\"col_heading level0 col40\" >LENGTH120</th>        <th class=\"col_heading level0 col41\" >LENGTH180</th>        <th class=\"col_heading level0 col42\" >REVENUE_LOG</th>    </tr></thead><tbody>\n",
       "                <tr>\n",
       "                        <th id=\"T_de91e3a8_79c4_11eb_83e1_d737e555df7dlevel0_row0\" class=\"row_heading level0 row0\" >0</th>\n",
       "                        <td id=\"T_de91e3a8_79c4_11eb_83e1_d737e555df7drow0_col0\" class=\"data row0 col0\" >0</td>\n",
       "                        <td id=\"T_de91e3a8_79c4_11eb_83e1_d737e555df7drow0_col1\" class=\"data row0 col1\" >6.5e+06</td>\n",
       "                        <td id=\"T_de91e3a8_79c4_11eb_83e1_d737e555df7drow0_col2\" class=\"data row0 col2\" >980000</td>\n",
       "                        <td id=\"T_de91e3a8_79c4_11eb_83e1_d737e555df7drow0_col3\" class=\"data row0 col3\" >940000</td>\n",
       "                        <td id=\"T_de91e3a8_79c4_11eb_83e1_d737e555df7drow0_col4\" class=\"data row0 col4\" >119300</td>\n",
       "                        <td id=\"T_de91e3a8_79c4_11eb_83e1_d737e555df7drow0_col5\" class=\"data row0 col5\" >18</td>\n",
       "                        <td id=\"T_de91e3a8_79c4_11eb_83e1_d737e555df7drow0_col6\" class=\"data row0 col6\" >0</td>\n",
       "                        <td id=\"T_de91e3a8_79c4_11eb_83e1_d737e555df7drow0_col7\" class=\"data row0 col7\" >0</td>\n",
       "                        <td id=\"T_de91e3a8_79c4_11eb_83e1_d737e555df7drow0_col8\" class=\"data row0 col8\" >0</td>\n",
       "                        <td id=\"T_de91e3a8_79c4_11eb_83e1_d737e555df7drow0_col9\" class=\"data row0 col9\" >0</td>\n",
       "                        <td id=\"T_de91e3a8_79c4_11eb_83e1_d737e555df7drow0_col10\" class=\"data row0 col10\" >0</td>\n",
       "                        <td id=\"T_de91e3a8_79c4_11eb_83e1_d737e555df7drow0_col11\" class=\"data row0 col11\" >0</td>\n",
       "                        <td id=\"T_de91e3a8_79c4_11eb_83e1_d737e555df7drow0_col12\" class=\"data row0 col12\" >0</td>\n",
       "                        <td id=\"T_de91e3a8_79c4_11eb_83e1_d737e555df7drow0_col13\" class=\"data row0 col13\" >0</td>\n",
       "                        <td id=\"T_de91e3a8_79c4_11eb_83e1_d737e555df7drow0_col14\" class=\"data row0 col14\" >0</td>\n",
       "                        <td id=\"T_de91e3a8_79c4_11eb_83e1_d737e555df7drow0_col15\" class=\"data row0 col15\" >1</td>\n",
       "                        <td id=\"T_de91e3a8_79c4_11eb_83e1_d737e555df7drow0_col16\" class=\"data row0 col16\" >0</td>\n",
       "                        <td id=\"T_de91e3a8_79c4_11eb_83e1_d737e555df7drow0_col17\" class=\"data row0 col17\" >0</td>\n",
       "                        <td id=\"T_de91e3a8_79c4_11eb_83e1_d737e555df7drow0_col18\" class=\"data row0 col18\" >0</td>\n",
       "                        <td id=\"T_de91e3a8_79c4_11eb_83e1_d737e555df7drow0_col19\" class=\"data row0 col19\" >0</td>\n",
       "                        <td id=\"T_de91e3a8_79c4_11eb_83e1_d737e555df7drow0_col20\" class=\"data row0 col20\" >0</td>\n",
       "                        <td id=\"T_de91e3a8_79c4_11eb_83e1_d737e555df7drow0_col21\" class=\"data row0 col21\" >0</td>\n",
       "                        <td id=\"T_de91e3a8_79c4_11eb_83e1_d737e555df7drow0_col22\" class=\"data row0 col22\" >0</td>\n",
       "                        <td id=\"T_de91e3a8_79c4_11eb_83e1_d737e555df7drow0_col23\" class=\"data row0 col23\" >0</td>\n",
       "                        <td id=\"T_de91e3a8_79c4_11eb_83e1_d737e555df7drow0_col24\" class=\"data row0 col24\" >0</td>\n",
       "                        <td id=\"T_de91e3a8_79c4_11eb_83e1_d737e555df7drow0_col25\" class=\"data row0 col25\" >1</td>\n",
       "                        <td id=\"T_de91e3a8_79c4_11eb_83e1_d737e555df7drow0_col26\" class=\"data row0 col26\" >0</td>\n",
       "                        <td id=\"T_de91e3a8_79c4_11eb_83e1_d737e555df7drow0_col27\" class=\"data row0 col27\" >0</td>\n",
       "                        <td id=\"T_de91e3a8_79c4_11eb_83e1_d737e555df7drow0_col28\" class=\"data row0 col28\" >0</td>\n",
       "                        <td id=\"T_de91e3a8_79c4_11eb_83e1_d737e555df7drow0_col29\" class=\"data row0 col29\" >0</td>\n",
       "                        <td id=\"T_de91e3a8_79c4_11eb_83e1_d737e555df7drow0_col30\" class=\"data row0 col30\" >0</td>\n",
       "                        <td id=\"T_de91e3a8_79c4_11eb_83e1_d737e555df7drow0_col31\" class=\"data row0 col31\" >0</td>\n",
       "                        <td id=\"T_de91e3a8_79c4_11eb_83e1_d737e555df7drow0_col32\" class=\"data row0 col32\" >0</td>\n",
       "                        <td id=\"T_de91e3a8_79c4_11eb_83e1_d737e555df7drow0_col33\" class=\"data row0 col33\" >0</td>\n",
       "                        <td id=\"T_de91e3a8_79c4_11eb_83e1_d737e555df7drow0_col34\" class=\"data row0 col34\" >0</td>\n",
       "                        <td id=\"T_de91e3a8_79c4_11eb_83e1_d737e555df7drow0_col35\" class=\"data row0 col35\" >0</td>\n",
       "                        <td id=\"T_de91e3a8_79c4_11eb_83e1_d737e555df7drow0_col36\" class=\"data row0 col36\" >0</td>\n",
       "                        <td id=\"T_de91e3a8_79c4_11eb_83e1_d737e555df7drow0_col37\" class=\"data row0 col37\" >1</td>\n",
       "                        <td id=\"T_de91e3a8_79c4_11eb_83e1_d737e555df7drow0_col38\" class=\"data row0 col38\" >False</td>\n",
       "                        <td id=\"T_de91e3a8_79c4_11eb_83e1_d737e555df7drow0_col39\" class=\"data row0 col39\" >False</td>\n",
       "                        <td id=\"T_de91e3a8_79c4_11eb_83e1_d737e555df7drow0_col40\" class=\"data row0 col40\" >False</td>\n",
       "                        <td id=\"T_de91e3a8_79c4_11eb_83e1_d737e555df7drow0_col41\" class=\"data row0 col41\" >True</td>\n",
       "                        <td id=\"T_de91e3a8_79c4_11eb_83e1_d737e555df7drow0_col42\" class=\"data row0 col42\" >16.468</td>\n",
       "            </tr>\n",
       "            <tr>\n",
       "                        <th id=\"T_de91e3a8_79c4_11eb_83e1_d737e555df7dlevel0_row1\" class=\"row_heading level0 row1\" >1</th>\n",
       "                        <td id=\"T_de91e3a8_79c4_11eb_83e1_d737e555df7drow1_col0\" class=\"data row1 col0\" >0</td>\n",
       "                        <td id=\"T_de91e3a8_79c4_11eb_83e1_d737e555df7drow1_col1\" class=\"data row1 col1\" >1.43931e+06</td>\n",
       "                        <td id=\"T_de91e3a8_79c4_11eb_83e1_d737e555df7drow1_col2\" class=\"data row1 col2\" >700000</td>\n",
       "                        <td id=\"T_de91e3a8_79c4_11eb_83e1_d737e555df7drow1_col3\" class=\"data row1 col3\" >700000</td>\n",
       "                        <td id=\"T_de91e3a8_79c4_11eb_83e1_d737e555df7drow1_col4\" class=\"data row1 col4\" >70000</td>\n",
       "                        <td id=\"T_de91e3a8_79c4_11eb_83e1_d737e555df7drow1_col5\" class=\"data row1 col5\" >11</td>\n",
       "                        <td id=\"T_de91e3a8_79c4_11eb_83e1_d737e555df7drow1_col6\" class=\"data row1 col6\" >1</td>\n",
       "                        <td id=\"T_de91e3a8_79c4_11eb_83e1_d737e555df7drow1_col7\" class=\"data row1 col7\" >0</td>\n",
       "                        <td id=\"T_de91e3a8_79c4_11eb_83e1_d737e555df7drow1_col8\" class=\"data row1 col8\" >0</td>\n",
       "                        <td id=\"T_de91e3a8_79c4_11eb_83e1_d737e555df7drow1_col9\" class=\"data row1 col9\" >0</td>\n",
       "                        <td id=\"T_de91e3a8_79c4_11eb_83e1_d737e555df7drow1_col10\" class=\"data row1 col10\" >0</td>\n",
       "                        <td id=\"T_de91e3a8_79c4_11eb_83e1_d737e555df7drow1_col11\" class=\"data row1 col11\" >0</td>\n",
       "                        <td id=\"T_de91e3a8_79c4_11eb_83e1_d737e555df7drow1_col12\" class=\"data row1 col12\" >0</td>\n",
       "                        <td id=\"T_de91e3a8_79c4_11eb_83e1_d737e555df7drow1_col13\" class=\"data row1 col13\" >0</td>\n",
       "                        <td id=\"T_de91e3a8_79c4_11eb_83e1_d737e555df7drow1_col14\" class=\"data row1 col14\" >0</td>\n",
       "                        <td id=\"T_de91e3a8_79c4_11eb_83e1_d737e555df7drow1_col15\" class=\"data row1 col15\" >0</td>\n",
       "                        <td id=\"T_de91e3a8_79c4_11eb_83e1_d737e555df7drow1_col16\" class=\"data row1 col16\" >0</td>\n",
       "                        <td id=\"T_de91e3a8_79c4_11eb_83e1_d737e555df7drow1_col17\" class=\"data row1 col17\" >0</td>\n",
       "                        <td id=\"T_de91e3a8_79c4_11eb_83e1_d737e555df7drow1_col18\" class=\"data row1 col18\" >1</td>\n",
       "                        <td id=\"T_de91e3a8_79c4_11eb_83e1_d737e555df7drow1_col19\" class=\"data row1 col19\" >0</td>\n",
       "                        <td id=\"T_de91e3a8_79c4_11eb_83e1_d737e555df7drow1_col20\" class=\"data row1 col20\" >0</td>\n",
       "                        <td id=\"T_de91e3a8_79c4_11eb_83e1_d737e555df7drow1_col21\" class=\"data row1 col21\" >1</td>\n",
       "                        <td id=\"T_de91e3a8_79c4_11eb_83e1_d737e555df7drow1_col22\" class=\"data row1 col22\" >0</td>\n",
       "                        <td id=\"T_de91e3a8_79c4_11eb_83e1_d737e555df7drow1_col23\" class=\"data row1 col23\" >1</td>\n",
       "                        <td id=\"T_de91e3a8_79c4_11eb_83e1_d737e555df7drow1_col24\" class=\"data row1 col24\" >0</td>\n",
       "                        <td id=\"T_de91e3a8_79c4_11eb_83e1_d737e555df7drow1_col25\" class=\"data row1 col25\" >1</td>\n",
       "                        <td id=\"T_de91e3a8_79c4_11eb_83e1_d737e555df7drow1_col26\" class=\"data row1 col26\" >0</td>\n",
       "                        <td id=\"T_de91e3a8_79c4_11eb_83e1_d737e555df7drow1_col27\" class=\"data row1 col27\" >0</td>\n",
       "                        <td id=\"T_de91e3a8_79c4_11eb_83e1_d737e555df7drow1_col28\" class=\"data row1 col28\" >0</td>\n",
       "                        <td id=\"T_de91e3a8_79c4_11eb_83e1_d737e555df7drow1_col29\" class=\"data row1 col29\" >0</td>\n",
       "                        <td id=\"T_de91e3a8_79c4_11eb_83e1_d737e555df7drow1_col30\" class=\"data row1 col30\" >0</td>\n",
       "                        <td id=\"T_de91e3a8_79c4_11eb_83e1_d737e555df7drow1_col31\" class=\"data row1 col31\" >0</td>\n",
       "                        <td id=\"T_de91e3a8_79c4_11eb_83e1_d737e555df7drow1_col32\" class=\"data row1 col32\" >0</td>\n",
       "                        <td id=\"T_de91e3a8_79c4_11eb_83e1_d737e555df7drow1_col33\" class=\"data row1 col33\" >0</td>\n",
       "                        <td id=\"T_de91e3a8_79c4_11eb_83e1_d737e555df7drow1_col34\" class=\"data row1 col34\" >0</td>\n",
       "                        <td id=\"T_de91e3a8_79c4_11eb_83e1_d737e555df7drow1_col35\" class=\"data row1 col35\" >0</td>\n",
       "                        <td id=\"T_de91e3a8_79c4_11eb_83e1_d737e555df7drow1_col36\" class=\"data row1 col36\" >0</td>\n",
       "                        <td id=\"T_de91e3a8_79c4_11eb_83e1_d737e555df7drow1_col37\" class=\"data row1 col37\" >0</td>\n",
       "                        <td id=\"T_de91e3a8_79c4_11eb_83e1_d737e555df7drow1_col38\" class=\"data row1 col38\" >False</td>\n",
       "                        <td id=\"T_de91e3a8_79c4_11eb_83e1_d737e555df7drow1_col39\" class=\"data row1 col39\" >False</td>\n",
       "                        <td id=\"T_de91e3a8_79c4_11eb_83e1_d737e555df7drow1_col40\" class=\"data row1 col40\" >False</td>\n",
       "                        <td id=\"T_de91e3a8_79c4_11eb_83e1_d737e555df7drow1_col41\" class=\"data row1 col41\" >True</td>\n",
       "                        <td id=\"T_de91e3a8_79c4_11eb_83e1_d737e555df7drow1_col42\" class=\"data row1 col42\" >15.3002</td>\n",
       "            </tr>\n",
       "            <tr>\n",
       "                        <th id=\"T_de91e3a8_79c4_11eb_83e1_d737e555df7dlevel0_row2\" class=\"row_heading level0 row2\" >2</th>\n",
       "                        <td id=\"T_de91e3a8_79c4_11eb_83e1_d737e555df7drow2_col0\" class=\"data row2 col0\" >0</td>\n",
       "                        <td id=\"T_de91e3a8_79c4_11eb_83e1_d737e555df7drow2_col1\" class=\"data row2 col1\" >1.3903e+06</td>\n",
       "                        <td id=\"T_de91e3a8_79c4_11eb_83e1_d737e555df7drow2_col2\" class=\"data row2 col2\" >695115</td>\n",
       "                        <td id=\"T_de91e3a8_79c4_11eb_83e1_d737e555df7drow2_col3\" class=\"data row2 col3\" >695115</td>\n",
       "                        <td id=\"T_de91e3a8_79c4_11eb_83e1_d737e555df7drow2_col4\" class=\"data row2 col4\" >100000</td>\n",
       "                        <td id=\"T_de91e3a8_79c4_11eb_83e1_d737e555df7drow2_col5\" class=\"data row2 col5\" >12</td>\n",
       "                        <td id=\"T_de91e3a8_79c4_11eb_83e1_d737e555df7drow2_col6\" class=\"data row2 col6\" >0</td>\n",
       "                        <td id=\"T_de91e3a8_79c4_11eb_83e1_d737e555df7drow2_col7\" class=\"data row2 col7\" >1</td>\n",
       "                        <td id=\"T_de91e3a8_79c4_11eb_83e1_d737e555df7drow2_col8\" class=\"data row2 col8\" >0</td>\n",
       "                        <td id=\"T_de91e3a8_79c4_11eb_83e1_d737e555df7drow2_col9\" class=\"data row2 col9\" >0</td>\n",
       "                        <td id=\"T_de91e3a8_79c4_11eb_83e1_d737e555df7drow2_col10\" class=\"data row2 col10\" >0</td>\n",
       "                        <td id=\"T_de91e3a8_79c4_11eb_83e1_d737e555df7drow2_col11\" class=\"data row2 col11\" >0</td>\n",
       "                        <td id=\"T_de91e3a8_79c4_11eb_83e1_d737e555df7drow2_col12\" class=\"data row2 col12\" >0</td>\n",
       "                        <td id=\"T_de91e3a8_79c4_11eb_83e1_d737e555df7drow2_col13\" class=\"data row2 col13\" >0</td>\n",
       "                        <td id=\"T_de91e3a8_79c4_11eb_83e1_d737e555df7drow2_col14\" class=\"data row2 col14\" >0</td>\n",
       "                        <td id=\"T_de91e3a8_79c4_11eb_83e1_d737e555df7drow2_col15\" class=\"data row2 col15\" >0</td>\n",
       "                        <td id=\"T_de91e3a8_79c4_11eb_83e1_d737e555df7drow2_col16\" class=\"data row2 col16\" >0</td>\n",
       "                        <td id=\"T_de91e3a8_79c4_11eb_83e1_d737e555df7drow2_col17\" class=\"data row2 col17\" >0</td>\n",
       "                        <td id=\"T_de91e3a8_79c4_11eb_83e1_d737e555df7drow2_col18\" class=\"data row2 col18\" >0</td>\n",
       "                        <td id=\"T_de91e3a8_79c4_11eb_83e1_d737e555df7drow2_col19\" class=\"data row2 col19\" >0</td>\n",
       "                        <td id=\"T_de91e3a8_79c4_11eb_83e1_d737e555df7drow2_col20\" class=\"data row2 col20\" >0</td>\n",
       "                        <td id=\"T_de91e3a8_79c4_11eb_83e1_d737e555df7drow2_col21\" class=\"data row2 col21\" >0</td>\n",
       "                        <td id=\"T_de91e3a8_79c4_11eb_83e1_d737e555df7drow2_col22\" class=\"data row2 col22\" >1</td>\n",
       "                        <td id=\"T_de91e3a8_79c4_11eb_83e1_d737e555df7drow2_col23\" class=\"data row2 col23\" >0</td>\n",
       "                        <td id=\"T_de91e3a8_79c4_11eb_83e1_d737e555df7drow2_col24\" class=\"data row2 col24\" >0</td>\n",
       "                        <td id=\"T_de91e3a8_79c4_11eb_83e1_d737e555df7drow2_col25\" class=\"data row2 col25\" >0</td>\n",
       "                        <td id=\"T_de91e3a8_79c4_11eb_83e1_d737e555df7drow2_col26\" class=\"data row2 col26\" >0</td>\n",
       "                        <td id=\"T_de91e3a8_79c4_11eb_83e1_d737e555df7drow2_col27\" class=\"data row2 col27\" >0</td>\n",
       "                        <td id=\"T_de91e3a8_79c4_11eb_83e1_d737e555df7drow2_col28\" class=\"data row2 col28\" >0</td>\n",
       "                        <td id=\"T_de91e3a8_79c4_11eb_83e1_d737e555df7drow2_col29\" class=\"data row2 col29\" >0</td>\n",
       "                        <td id=\"T_de91e3a8_79c4_11eb_83e1_d737e555df7drow2_col30\" class=\"data row2 col30\" >0</td>\n",
       "                        <td id=\"T_de91e3a8_79c4_11eb_83e1_d737e555df7drow2_col31\" class=\"data row2 col31\" >0</td>\n",
       "                        <td id=\"T_de91e3a8_79c4_11eb_83e1_d737e555df7drow2_col32\" class=\"data row2 col32\" >0</td>\n",
       "                        <td id=\"T_de91e3a8_79c4_11eb_83e1_d737e555df7drow2_col33\" class=\"data row2 col33\" >0</td>\n",
       "                        <td id=\"T_de91e3a8_79c4_11eb_83e1_d737e555df7drow2_col34\" class=\"data row2 col34\" >0</td>\n",
       "                        <td id=\"T_de91e3a8_79c4_11eb_83e1_d737e555df7drow2_col35\" class=\"data row2 col35\" >0</td>\n",
       "                        <td id=\"T_de91e3a8_79c4_11eb_83e1_d737e555df7drow2_col36\" class=\"data row2 col36\" >0</td>\n",
       "                        <td id=\"T_de91e3a8_79c4_11eb_83e1_d737e555df7drow2_col37\" class=\"data row2 col37\" >0</td>\n",
       "                        <td id=\"T_de91e3a8_79c4_11eb_83e1_d737e555df7drow2_col38\" class=\"data row2 col38\" >False</td>\n",
       "                        <td id=\"T_de91e3a8_79c4_11eb_83e1_d737e555df7drow2_col39\" class=\"data row2 col39\" >True</td>\n",
       "                        <td id=\"T_de91e3a8_79c4_11eb_83e1_d737e555df7drow2_col40\" class=\"data row2 col40\" >False</td>\n",
       "                        <td id=\"T_de91e3a8_79c4_11eb_83e1_d737e555df7drow2_col41\" class=\"data row2 col41\" >False</td>\n",
       "                        <td id=\"T_de91e3a8_79c4_11eb_83e1_d737e555df7drow2_col42\" class=\"data row2 col42\" >15.4302</td>\n",
       "            </tr>\n",
       "            <tr>\n",
       "                        <th id=\"T_de91e3a8_79c4_11eb_83e1_d737e555df7dlevel0_row3\" class=\"row_heading level0 row3\" >3</th>\n",
       "                        <td id=\"T_de91e3a8_79c4_11eb_83e1_d737e555df7drow3_col0\" class=\"data row3 col0\" >0</td>\n",
       "                        <td id=\"T_de91e3a8_79c4_11eb_83e1_d737e555df7drow3_col1\" class=\"data row3 col1\" >1.58543e+06</td>\n",
       "                        <td id=\"T_de91e3a8_79c4_11eb_83e1_d737e555df7drow3_col2\" class=\"data row3 col2\" >769468</td>\n",
       "                        <td id=\"T_de91e3a8_79c4_11eb_83e1_d737e555df7drow3_col3\" class=\"data row3 col3\" >769468</td>\n",
       "                        <td id=\"T_de91e3a8_79c4_11eb_83e1_d737e555df7drow3_col4\" class=\"data row3 col4\" >80900</td>\n",
       "                        <td id=\"T_de91e3a8_79c4_11eb_83e1_d737e555df7drow3_col5\" class=\"data row3 col5\" >18</td>\n",
       "                        <td id=\"T_de91e3a8_79c4_11eb_83e1_d737e555df7drow3_col6\" class=\"data row3 col6\" >0</td>\n",
       "                        <td id=\"T_de91e3a8_79c4_11eb_83e1_d737e555df7drow3_col7\" class=\"data row3 col7\" >0</td>\n",
       "                        <td id=\"T_de91e3a8_79c4_11eb_83e1_d737e555df7drow3_col8\" class=\"data row3 col8\" >0</td>\n",
       "                        <td id=\"T_de91e3a8_79c4_11eb_83e1_d737e555df7drow3_col9\" class=\"data row3 col9\" >0</td>\n",
       "                        <td id=\"T_de91e3a8_79c4_11eb_83e1_d737e555df7drow3_col10\" class=\"data row3 col10\" >0</td>\n",
       "                        <td id=\"T_de91e3a8_79c4_11eb_83e1_d737e555df7drow3_col11\" class=\"data row3 col11\" >0</td>\n",
       "                        <td id=\"T_de91e3a8_79c4_11eb_83e1_d737e555df7drow3_col12\" class=\"data row3 col12\" >0</td>\n",
       "                        <td id=\"T_de91e3a8_79c4_11eb_83e1_d737e555df7drow3_col13\" class=\"data row3 col13\" >0</td>\n",
       "                        <td id=\"T_de91e3a8_79c4_11eb_83e1_d737e555df7drow3_col14\" class=\"data row3 col14\" >1</td>\n",
       "                        <td id=\"T_de91e3a8_79c4_11eb_83e1_d737e555df7drow3_col15\" class=\"data row3 col15\" >0</td>\n",
       "                        <td id=\"T_de91e3a8_79c4_11eb_83e1_d737e555df7drow3_col16\" class=\"data row3 col16\" >0</td>\n",
       "                        <td id=\"T_de91e3a8_79c4_11eb_83e1_d737e555df7drow3_col17\" class=\"data row3 col17\" >0</td>\n",
       "                        <td id=\"T_de91e3a8_79c4_11eb_83e1_d737e555df7drow3_col18\" class=\"data row3 col18\" >0</td>\n",
       "                        <td id=\"T_de91e3a8_79c4_11eb_83e1_d737e555df7drow3_col19\" class=\"data row3 col19\" >0</td>\n",
       "                        <td id=\"T_de91e3a8_79c4_11eb_83e1_d737e555df7drow3_col20\" class=\"data row3 col20\" >0</td>\n",
       "                        <td id=\"T_de91e3a8_79c4_11eb_83e1_d737e555df7drow3_col21\" class=\"data row3 col21\" >0</td>\n",
       "                        <td id=\"T_de91e3a8_79c4_11eb_83e1_d737e555df7drow3_col22\" class=\"data row3 col22\" >1</td>\n",
       "                        <td id=\"T_de91e3a8_79c4_11eb_83e1_d737e555df7drow3_col23\" class=\"data row3 col23\" >0</td>\n",
       "                        <td id=\"T_de91e3a8_79c4_11eb_83e1_d737e555df7drow3_col24\" class=\"data row3 col24\" >0</td>\n",
       "                        <td id=\"T_de91e3a8_79c4_11eb_83e1_d737e555df7drow3_col25\" class=\"data row3 col25\" >1</td>\n",
       "                        <td id=\"T_de91e3a8_79c4_11eb_83e1_d737e555df7drow3_col26\" class=\"data row3 col26\" >0</td>\n",
       "                        <td id=\"T_de91e3a8_79c4_11eb_83e1_d737e555df7drow3_col27\" class=\"data row3 col27\" >0</td>\n",
       "                        <td id=\"T_de91e3a8_79c4_11eb_83e1_d737e555df7drow3_col28\" class=\"data row3 col28\" >0</td>\n",
       "                        <td id=\"T_de91e3a8_79c4_11eb_83e1_d737e555df7drow3_col29\" class=\"data row3 col29\" >0</td>\n",
       "                        <td id=\"T_de91e3a8_79c4_11eb_83e1_d737e555df7drow3_col30\" class=\"data row3 col30\" >0</td>\n",
       "                        <td id=\"T_de91e3a8_79c4_11eb_83e1_d737e555df7drow3_col31\" class=\"data row3 col31\" >0</td>\n",
       "                        <td id=\"T_de91e3a8_79c4_11eb_83e1_d737e555df7drow3_col32\" class=\"data row3 col32\" >0</td>\n",
       "                        <td id=\"T_de91e3a8_79c4_11eb_83e1_d737e555df7drow3_col33\" class=\"data row3 col33\" >0</td>\n",
       "                        <td id=\"T_de91e3a8_79c4_11eb_83e1_d737e555df7drow3_col34\" class=\"data row3 col34\" >0</td>\n",
       "                        <td id=\"T_de91e3a8_79c4_11eb_83e1_d737e555df7drow3_col35\" class=\"data row3 col35\" >0</td>\n",
       "                        <td id=\"T_de91e3a8_79c4_11eb_83e1_d737e555df7drow3_col36\" class=\"data row3 col36\" >0</td>\n",
       "                        <td id=\"T_de91e3a8_79c4_11eb_83e1_d737e555df7drow3_col37\" class=\"data row3 col37\" >0</td>\n",
       "                        <td id=\"T_de91e3a8_79c4_11eb_83e1_d737e555df7drow3_col38\" class=\"data row3 col38\" >False</td>\n",
       "                        <td id=\"T_de91e3a8_79c4_11eb_83e1_d737e555df7drow3_col39\" class=\"data row3 col39\" >False</td>\n",
       "                        <td id=\"T_de91e3a8_79c4_11eb_83e1_d737e555df7drow3_col40\" class=\"data row3 col40\" >True</td>\n",
       "                        <td id=\"T_de91e3a8_79c4_11eb_83e1_d737e555df7drow3_col41\" class=\"data row3 col41\" >False</td>\n",
       "                        <td id=\"T_de91e3a8_79c4_11eb_83e1_d737e555df7drow3_col42\" class=\"data row3 col42\" >15.3602</td>\n",
       "            </tr>\n",
       "            <tr>\n",
       "                        <th id=\"T_de91e3a8_79c4_11eb_83e1_d737e555df7dlevel0_row4\" class=\"row_heading level0 row4\" >4</th>\n",
       "                        <td id=\"T_de91e3a8_79c4_11eb_83e1_d737e555df7drow4_col0\" class=\"data row4 col0\" >0</td>\n",
       "                        <td id=\"T_de91e3a8_79c4_11eb_83e1_d737e555df7drow4_col1\" class=\"data row4 col1\" >1.72655e+06</td>\n",
       "                        <td id=\"T_de91e3a8_79c4_11eb_83e1_d737e555df7drow4_col2\" class=\"data row4 col2\" >708500</td>\n",
       "                        <td id=\"T_de91e3a8_79c4_11eb_83e1_d737e555df7drow4_col3\" class=\"data row4 col3\" >700000</td>\n",
       "                        <td id=\"T_de91e3a8_79c4_11eb_83e1_d737e555df7drow4_col4\" class=\"data row4 col4\" >70000</td>\n",
       "                        <td id=\"T_de91e3a8_79c4_11eb_83e1_d737e555df7drow4_col5\" class=\"data row4 col5\" >5</td>\n",
       "                        <td id=\"T_de91e3a8_79c4_11eb_83e1_d737e555df7drow4_col6\" class=\"data row4 col6\" >1</td>\n",
       "                        <td id=\"T_de91e3a8_79c4_11eb_83e1_d737e555df7drow4_col7\" class=\"data row4 col7\" >0</td>\n",
       "                        <td id=\"T_de91e3a8_79c4_11eb_83e1_d737e555df7drow4_col8\" class=\"data row4 col8\" >0</td>\n",
       "                        <td id=\"T_de91e3a8_79c4_11eb_83e1_d737e555df7drow4_col9\" class=\"data row4 col9\" >0</td>\n",
       "                        <td id=\"T_de91e3a8_79c4_11eb_83e1_d737e555df7drow4_col10\" class=\"data row4 col10\" >0</td>\n",
       "                        <td id=\"T_de91e3a8_79c4_11eb_83e1_d737e555df7drow4_col11\" class=\"data row4 col11\" >0</td>\n",
       "                        <td id=\"T_de91e3a8_79c4_11eb_83e1_d737e555df7drow4_col12\" class=\"data row4 col12\" >0</td>\n",
       "                        <td id=\"T_de91e3a8_79c4_11eb_83e1_d737e555df7drow4_col13\" class=\"data row4 col13\" >0</td>\n",
       "                        <td id=\"T_de91e3a8_79c4_11eb_83e1_d737e555df7drow4_col14\" class=\"data row4 col14\" >0</td>\n",
       "                        <td id=\"T_de91e3a8_79c4_11eb_83e1_d737e555df7drow4_col15\" class=\"data row4 col15\" >0</td>\n",
       "                        <td id=\"T_de91e3a8_79c4_11eb_83e1_d737e555df7drow4_col16\" class=\"data row4 col16\" >0</td>\n",
       "                        <td id=\"T_de91e3a8_79c4_11eb_83e1_d737e555df7drow4_col17\" class=\"data row4 col17\" >0</td>\n",
       "                        <td id=\"T_de91e3a8_79c4_11eb_83e1_d737e555df7drow4_col18\" class=\"data row4 col18\" >0</td>\n",
       "                        <td id=\"T_de91e3a8_79c4_11eb_83e1_d737e555df7drow4_col19\" class=\"data row4 col19\" >0</td>\n",
       "                        <td id=\"T_de91e3a8_79c4_11eb_83e1_d737e555df7drow4_col20\" class=\"data row4 col20\" >0</td>\n",
       "                        <td id=\"T_de91e3a8_79c4_11eb_83e1_d737e555df7drow4_col21\" class=\"data row4 col21\" >1</td>\n",
       "                        <td id=\"T_de91e3a8_79c4_11eb_83e1_d737e555df7drow4_col22\" class=\"data row4 col22\" >1</td>\n",
       "                        <td id=\"T_de91e3a8_79c4_11eb_83e1_d737e555df7drow4_col23\" class=\"data row4 col23\" >0</td>\n",
       "                        <td id=\"T_de91e3a8_79c4_11eb_83e1_d737e555df7drow4_col24\" class=\"data row4 col24\" >0</td>\n",
       "                        <td id=\"T_de91e3a8_79c4_11eb_83e1_d737e555df7drow4_col25\" class=\"data row4 col25\" >1</td>\n",
       "                        <td id=\"T_de91e3a8_79c4_11eb_83e1_d737e555df7drow4_col26\" class=\"data row4 col26\" >0</td>\n",
       "                        <td id=\"T_de91e3a8_79c4_11eb_83e1_d737e555df7drow4_col27\" class=\"data row4 col27\" >0</td>\n",
       "                        <td id=\"T_de91e3a8_79c4_11eb_83e1_d737e555df7drow4_col28\" class=\"data row4 col28\" >0</td>\n",
       "                        <td id=\"T_de91e3a8_79c4_11eb_83e1_d737e555df7drow4_col29\" class=\"data row4 col29\" >0</td>\n",
       "                        <td id=\"T_de91e3a8_79c4_11eb_83e1_d737e555df7drow4_col30\" class=\"data row4 col30\" >0</td>\n",
       "                        <td id=\"T_de91e3a8_79c4_11eb_83e1_d737e555df7drow4_col31\" class=\"data row4 col31\" >0</td>\n",
       "                        <td id=\"T_de91e3a8_79c4_11eb_83e1_d737e555df7drow4_col32\" class=\"data row4 col32\" >0</td>\n",
       "                        <td id=\"T_de91e3a8_79c4_11eb_83e1_d737e555df7drow4_col33\" class=\"data row4 col33\" >0</td>\n",
       "                        <td id=\"T_de91e3a8_79c4_11eb_83e1_d737e555df7drow4_col34\" class=\"data row4 col34\" >0</td>\n",
       "                        <td id=\"T_de91e3a8_79c4_11eb_83e1_d737e555df7drow4_col35\" class=\"data row4 col35\" >1</td>\n",
       "                        <td id=\"T_de91e3a8_79c4_11eb_83e1_d737e555df7drow4_col36\" class=\"data row4 col36\" >0</td>\n",
       "                        <td id=\"T_de91e3a8_79c4_11eb_83e1_d737e555df7drow4_col37\" class=\"data row4 col37\" >0</td>\n",
       "                        <td id=\"T_de91e3a8_79c4_11eb_83e1_d737e555df7drow4_col38\" class=\"data row4 col38\" >False</td>\n",
       "                        <td id=\"T_de91e3a8_79c4_11eb_83e1_d737e555df7drow4_col39\" class=\"data row4 col39\" >False</td>\n",
       "                        <td id=\"T_de91e3a8_79c4_11eb_83e1_d737e555df7drow4_col40\" class=\"data row4 col40\" >False</td>\n",
       "                        <td id=\"T_de91e3a8_79c4_11eb_83e1_d737e555df7drow4_col41\" class=\"data row4 col41\" >True</td>\n",
       "                        <td id=\"T_de91e3a8_79c4_11eb_83e1_d737e555df7drow4_col42\" class=\"data row4 col42\" >15.1021</td>\n",
       "            </tr>\n",
       "    </tbody></table>"
      ],
      "text/plain": [
       "<pandas.io.formats.style.Styler at 0x7f972104ba90>"
      ]
     },
     "execution_count": 3,
     "metadata": {},
     "output_type": "execute_result"
    }
   ],
   "source": [
    "data = pd.read_csv('Data2v2.csv')\n",
    "data.drop(['REVENUE'], axis=1, inplace=True)\n",
    "data.head().style"
   ]
  },
  {
   "cell_type": "code",
   "execution_count": 4,
   "metadata": {},
   "outputs": [],
   "source": [
    "#data = data.drop(data.index[0])"
   ]
  },
  {
   "cell_type": "code",
   "execution_count": 5,
   "metadata": {},
   "outputs": [
    {
     "name": "stdout",
     "output_type": "stream",
     "text": [
      "<class 'pandas.core.frame.DataFrame'>\n",
      "RangeIndex: 401 entries, 0 to 400\n",
      "Data columns (total 43 columns):\n",
      "CO_COUNTRY              401 non-null int64\n",
      "BUDGET                  401 non-null float64\n",
      "TOTAL_SUPPORT           401 non-null float64\n",
      "PRODUCTION_SUPPORT      401 non-null float64\n",
      "DISTRIBUTION_SUPPORT    401 non-null float64\n",
      "NAME_LENGTH             401 non-null int64\n",
      "PREMIERE_1              401 non-null int64\n",
      "PREMIERE_2              401 non-null int64\n",
      "PREMIERE_3              401 non-null int64\n",
      "PREMIERE_4              401 non-null int64\n",
      "PREMIERE_5              401 non-null int64\n",
      "PREMIERE_6              401 non-null int64\n",
      "PREMIERE_7              401 non-null int64\n",
      "PREMIERE_8              401 non-null int64\n",
      "PREMIERE_9              401 non-null int64\n",
      "PREMIERE_10             401 non-null int64\n",
      "PREMIERE_11             401 non-null int64\n",
      "PREMIERE_12             401 non-null int64\n",
      "Action                  401 non-null int64\n",
      "Adventure               401 non-null int64\n",
      "Animation               401 non-null int64\n",
      "Biography               401 non-null int64\n",
      "Comedy                  401 non-null int64\n",
      "Crime                   401 non-null int64\n",
      "Documentary             401 non-null int64\n",
      "Drama                   401 non-null int64\n",
      "Family                  401 non-null int64\n",
      "Fantasy                 401 non-null int64\n",
      "History                 401 non-null int64\n",
      "Horror                  401 non-null int64\n",
      "Music                   401 non-null int64\n",
      "Musical                 401 non-null int64\n",
      "Mystery                 401 non-null int64\n",
      "Romance                 401 non-null int64\n",
      "Sci-Fi                  401 non-null int64\n",
      "Sport                   401 non-null int64\n",
      "Thriller                401 non-null int64\n",
      "War                     401 non-null int64\n",
      "LENGTH60                401 non-null bool\n",
      "LENGTH90                401 non-null bool\n",
      "LENGTH120               401 non-null bool\n",
      "LENGTH180               401 non-null bool\n",
      "REVENUE_LOG             401 non-null float64\n",
      "dtypes: bool(4), float64(5), int64(34)\n",
      "memory usage: 123.9 KB\n"
     ]
    }
   ],
   "source": [
    "data.info()"
   ]
  },
  {
   "cell_type": "code",
   "execution_count": 6,
   "metadata": {},
   "outputs": [
    {
     "name": "stderr",
     "output_type": "stream",
     "text": [
      "/opt/conda/lib/python3.7/site-packages/numpy/core/fromnumeric.py:2495: FutureWarning: Method .ptp is deprecated and will be removed in a future version. Use numpy.ptp instead.\n",
      "  return ptp(axis=axis, out=out, **kwargs)\n"
     ]
    }
   ],
   "source": [
    "y = data['REVENUE_LOG'].values\n",
    "X = data.loc[:, data.columns != 'REVENUE_LOG']\n",
    "\n",
    "X = sm.add_constant(X)"
   ]
  },
  {
   "cell_type": "code",
   "execution_count": 7,
   "metadata": {},
   "outputs": [],
   "source": [
    "# split and training\n",
    "\n",
    "X_train, X_test, y_train, y_test = train_test_split(X, y, test_size=0.3, random_state=1)"
   ]
  },
  {
   "cell_type": "code",
   "execution_count": 8,
   "metadata": {},
   "outputs": [
    {
     "name": "stdout",
     "output_type": "stream",
     "text": [
      "                            OLS Regression Results                            \n",
      "==============================================================================\n",
      "Dep. Variable:                      y   R-squared:                       0.787\n",
      "Model:                            OLS   Adj. R-squared:                  0.750\n",
      "Method:                 Least Squares   F-statistic:                     21.44\n",
      "Date:                Sun, 28 Feb 2021   Prob (F-statistic):           3.30e-59\n",
      "Time:                        15:00:02   Log-Likelihood:                -381.83\n",
      "No. Observations:                 280   AIC:                             847.7\n",
      "Df Residuals:                     238   BIC:                             1000.\n",
      "Df Model:                          41                                         \n",
      "Covariance Type:            nonrobust                                         \n",
      "========================================================================================\n",
      "                           coef    std err          t      P>|t|      [0.025      0.975]\n",
      "----------------------------------------------------------------------------------------\n",
      "const                    8.1875      0.420     19.476      0.000       7.359       9.016\n",
      "CO_COUNTRY               0.0619      0.203      0.305      0.761      -0.338       0.462\n",
      "BUDGET                3.881e-08   1.06e-07      0.368      0.714   -1.69e-07    2.47e-07\n",
      "TOTAL_SUPPORT        -3.187e-06   2.21e-06     -1.440      0.151   -7.55e-06    1.17e-06\n",
      "PRODUCTION_SUPPORT    4.633e-06   2.34e-06      1.979      0.049    2.16e-08    9.24e-06\n",
      "DISTRIBUTION_SUPPORT  3.882e-05   3.89e-06      9.981      0.000    3.12e-05    4.65e-05\n",
      "NAME_LENGTH              0.0011      0.009      0.129      0.897      -0.016       0.018\n",
      "PREMIERE_1               0.6945      0.212      3.278      0.001       0.277       1.112\n",
      "PREMIERE_2               0.9304      0.214      4.357      0.000       0.510       1.351\n",
      "PREMIERE_3               0.6101      0.193      3.167      0.002       0.231       0.990\n",
      "PREMIERE_4               1.2040      0.290      4.146      0.000       0.632       1.776\n",
      "PREMIERE_5               0.1854      0.415      0.447      0.656      -0.632       1.003\n",
      "PREMIERE_6               0.6714      0.683      0.984      0.326      -0.673       2.016\n",
      "PREMIERE_7              -0.4152      0.395     -1.050      0.295      -1.194       0.364\n",
      "PREMIERE_8               0.5392      0.255      2.111      0.036       0.036       1.042\n",
      "PREMIERE_9               1.0297      0.183      5.614      0.000       0.668       1.391\n",
      "PREMIERE_10              0.7919      0.190      4.178      0.000       0.418       1.165\n",
      "PREMIERE_11              0.7047      0.221      3.191      0.002       0.270       1.140\n",
      "PREMIERE_12              1.2415      0.235      5.286      0.000       0.779       1.704\n",
      "Action                   1.0916      0.514      2.122      0.035       0.078       2.105\n",
      "Adventure               -0.0484      0.387     -0.125      0.901      -0.812       0.715\n",
      "Animation                0.9062      0.533      1.701      0.090      -0.143       1.956\n",
      "Biography                0.1663      0.259      0.641      0.522      -0.344       0.677\n",
      "Comedy                   0.3289      0.178      1.850      0.066      -0.021       0.679\n",
      "Crime                    0.4882      0.361      1.351      0.178      -0.224       1.200\n",
      "Documentary              0.1282      0.272      0.470      0.639      -0.409       0.665\n",
      "Drama                   -0.1745      0.181     -0.965      0.335      -0.531       0.182\n",
      "Family                   0.0151      0.302      0.050      0.960      -0.579       0.609\n",
      "Fantasy                  0.0583      0.391      0.149      0.881      -0.711       0.828\n",
      "History                 -0.2837      0.330     -0.860      0.391      -0.934       0.366\n",
      "Horror                  -0.1164      0.646     -0.180      0.857      -1.389       1.156\n",
      "Music                    0.2173      0.251      0.867      0.387      -0.277       0.711\n",
      "Musical                  0.1464      0.410      0.357      0.721      -0.661       0.953\n",
      "Mystery                  0.7026      0.593      1.185      0.237      -0.466       1.871\n",
      "Romance                  0.0209      0.213      0.098      0.922      -0.398       0.440\n",
      "Sci-Fi                  -1.4181      0.628     -2.257      0.025      -2.656      -0.181\n",
      "Sport                   -0.2583      0.411     -0.629      0.530      -1.068       0.551\n",
      "Thriller                -0.6331      0.367     -1.727      0.085      -1.355       0.089\n",
      "War                      0.7651      0.334      2.290      0.023       0.107       1.423\n",
      "LENGTH60                -1.1061      0.715     -1.547      0.123      -2.515       0.303\n",
      "LENGTH90                -0.1252      0.298     -0.420      0.675      -0.712       0.461\n",
      "LENGTH120               -0.0168      0.298     -0.057      0.955      -0.604       0.570\n",
      "LENGTH180                0.3642      0.415      0.877      0.382      -0.454       1.183\n",
      "==============================================================================\n",
      "Omnibus:                        0.344   Durbin-Watson:                   2.038\n",
      "Prob(Omnibus):                  0.842   Jarque-Bera (JB):                0.427\n",
      "Skew:                          -0.079   Prob(JB):                        0.808\n",
      "Kurtosis:                       2.893   Cond. No.                     1.45e+17\n",
      "==============================================================================\n",
      "\n",
      "Warnings:\n",
      "[1] Standard Errors assume that the covariance matrix of the errors is correctly specified.\n",
      "[2] The smallest eigenvalue is 3.96e-20. This might indicate that there are\n",
      "strong multicollinearity problems or that the design matrix is singular.\n"
     ]
    }
   ],
   "source": [
    "#exog = sm.add_constant(X_train)\n",
    "result = sm.OLS(y_train.astype(float), X_train.astype(float)).fit()\n",
    "print(result.summary())"
   ]
  },
  {
   "cell_type": "code",
   "execution_count": 9,
   "metadata": {},
   "outputs": [
    {
     "name": "stdout",
     "output_type": "stream",
     "text": [
      "\n",
      "Training MSE: 1.0\n",
      "Test MSE:    1.0\n"
     ]
    }
   ],
   "source": [
    "print('\\nTraining MSE: ' + str(round(mean_squared_error(y_train, result.predict(X_train)), 0)))\n",
    "print('Test MSE:    ' + str(round(mean_squared_error(y_test, result.predict(X_test)), 0)))"
   ]
  },
  {
   "cell_type": "markdown",
   "metadata": {},
   "source": [
    "##OPTION 1\n",
    "\n",
    "Should be done overnight, since computing 6 predictors takes a lot of processing in this dataset. Hence, the code is in Raw format, wont activate if running the entire notebook."
   ]
  },
  {
   "cell_type": "code",
   "execution_count": 10,
   "metadata": {},
   "outputs": [],
   "source": [
    "def processSubset(feature_set):\n",
    "    # Fit model on feature_set and calculate RSS\n",
    "    \n",
    "    features = list(feature_set)\n",
    "    if 'const' not in features:\n",
    "        features.append('const')\n",
    "    \n",
    "    exog = X_train[features]\n",
    "    exog_test = X_test[features]\n",
    "\n",
    "    model = sm.OLS(y_train, exog)\n",
    "    regr = model.fit()\n",
    "    \n",
    "    train_MSE = round(mean_squared_error(y_train, regr.predict(exog)), 0)\n",
    "    test_MSE = round(mean_squared_error(y_test, regr.predict(exog_test)), 0)\n",
    "    \n",
    "    RSS = ((regr.predict(exog) - y_train) ** 2).sum()\n",
    "    return {\"model\":regr, \"RSS\":RSS, \"Train MSE\": train_MSE, \"Test MSE\": test_MSE}"
   ]
  },
  {
   "cell_type": "raw",
   "metadata": {},
   "source": [
    "def getBest(k):\n",
    "    \n",
    "    tic = time.time()\n",
    "    \n",
    "    results = []\n",
    "        \n",
    "    for combo in itertools.combinations(X.columns[1:-1], k):\n",
    "        results.append(processSubset(combo))\n",
    "    \n",
    "    # Wrap everything up in a nice dataframe\n",
    "    models = pd.DataFrame(results)\n",
    "    \n",
    "    # Choose the model with the highest RSS\n",
    "    best_model = models.loc[models['RSS'].idxmin()]\n",
    "    \n",
    "    toc = time.time()\n",
    "    print(\"Processed\", models.shape[0], \"models on\", k, \"predictors in\", (round(toc-tic,3)), \"seconds.\")\n",
    "    \n",
    "    # Return the best model, along with some other useful information about the model\n",
    "    return best_model"
   ]
  },
  {
   "cell_type": "raw",
   "metadata": {},
   "source": [
    "# Could take quite awhile to complete...\n",
    "\n",
    "models_best = pd.DataFrame(columns=[\"model\", \"RSS\", \"Train MSE\", \"Test MSE\"])\n",
    "\n",
    "tic = time.time()\n",
    "for i in range(1,7): #between 1 and 7 features\n",
    "    models_best.loc[i] = getBest(i)\n",
    "\n",
    "toc = time.time()\n",
    "print(\"Total elapsed time:\", (toc-tic), \"seconds.\")"
   ]
  },
  {
   "cell_type": "raw",
   "metadata": {},
   "source": [
    "models_best"
   ]
  },
  {
   "cell_type": "raw",
   "metadata": {},
   "source": [
    "print(models_best.loc[2, \"model\"].summary())"
   ]
  },
  {
   "cell_type": "raw",
   "metadata": {},
   "source": [
    "#models_best.loc[2, \"model\"].rsquared\n",
    "\n",
    "# Gets the second element from each row ('model') and pulls out its rsquared attribute\n",
    "models_best.apply(lambda row: row[0].rsquared, axis=1)"
   ]
  },
  {
   "cell_type": "code",
   "execution_count": 11,
   "metadata": {},
   "outputs": [],
   "source": [
    "def plotFeatureSelection(model):\n",
    "    plt.figure(figsize=(20,10))\n",
    "    plt.rcParams.update({'font.size': 18, 'lines.markersize': 10})\n",
    "\n",
    "    # Set up a 2x2 grid so we can look at 4 plots at once\n",
    "    plt.subplot(2, 2, 1)\n",
    "\n",
    "    # We will now plot a red dot to indicate the model with the largest adjusted R^2 statistic.\n",
    "    # The idxmax() function can be used to identify the location of the maximum point of a vector\n",
    "    #plt.plot(model[\"RSS\"])\n",
    "    #plt.xticks(model.index)\n",
    "    #plt.xlabel('# Predictors')\n",
    "    #plt.ylabel('RSS')\n",
    "\n",
    "    plt.plot(model[\"Train MSE\"], label='train')\n",
    "    plt.plot(model[\"Test MSE\"], label='test')\n",
    "    plt.xticks(model.index)\n",
    "    plt.xlabel('# Predictors')\n",
    "    plt.ylabel('MSE')\n",
    "    plt.legend()\n",
    "    \n",
    "    \n",
    "    # We will now plot a red dot to indicate the model with the largest adjusted R^2 statistic.\n",
    "    # The idxmax() function can be used to identify the location of the maximum point of a vector\n",
    "\n",
    "    rsquared_adj = model.apply(lambda row: row[0].rsquared_adj, axis=1)\n",
    "\n",
    "    plt.subplot(2, 2, 2)\n",
    "    plt.plot(rsquared_adj)\n",
    "    plt.plot(rsquared_adj.idxmax(), rsquared_adj.max(), \"or\")\n",
    "    plt.xticks(model.index)\n",
    "    plt.xlabel('# Predictors')\n",
    "    plt.ylabel('adjusted rsquared')\n",
    "\n",
    "    # We'll do the same for AIC and BIC, this time looking for the models with the SMALLEST statistic\n",
    "    aic = model.apply(lambda row: row[0].aic, axis=1)\n",
    "\n",
    "    plt.subplot(2, 2, 3)\n",
    "    plt.plot(aic)\n",
    "    plt.plot(aic.idxmin(), aic.min(), \"or\")\n",
    "    plt.xticks(model.index)\n",
    "    plt.xlabel('# Predictors')\n",
    "    plt.ylabel('AIC')\n",
    "\n",
    "    bic = model.apply(lambda row: row[0].bic, axis=1)\n",
    "\n",
    "    plt.subplot(2, 2, 4)\n",
    "    plt.plot(bic)\n",
    "    plt.plot(bic.idxmin(), bic.min(), \"or\")\n",
    "    plt.xticks(model.index)\n",
    "    plt.xlabel('# Predictors')\n",
    "    plt.ylabel('BIC')\n",
    "\n",
    "    plt.tight_layout();"
   ]
  },
  {
   "cell_type": "raw",
   "metadata": {},
   "source": [
    "plotFeatureSelection(models_best)"
   ]
  },
  {
   "cell_type": "markdown",
   "metadata": {},
   "source": [
    "OPTION 2, Forward selection\n",
    "\n"
   ]
  },
  {
   "cell_type": "raw",
   "metadata": {},
   "source": [
    "def forward(predictors):\n",
    "\n",
    "    # Pull out predictors we still need to process\n",
    "    remaining_predictors = [p for p in X.columns[1:-1] if p not in predictors]\n",
    "    #print(remaining_predictors)\n",
    "    \n",
    "    tic = time.time()\n",
    "    \n",
    "    results = []\n",
    "    \n",
    "    for p in remaining_predictors:\n",
    "        results.append(processSubset(predictors+[p]))\n",
    "        #print(predictors+[p])\n",
    "    \n",
    "    # Wrap everything up in a nice dataframe\n",
    "    models = pd.DataFrame(results)\n",
    "    \n",
    "    # Choose the model with the highest RSS\n",
    "    best_model = models.loc[models['RSS'].idxmin()]\n",
    "    \n",
    "    toc = time.time()\n",
    "    print(\"Processed \", models.shape[0], \"models on\", len(predictors)+1, \"predictors in\", (round(toc-tic,3)), \"seconds.\")\n",
    "    \n",
    "    # Return the best model, along with some other useful information about the model\n",
    "    return best_model"
   ]
  },
  {
   "cell_type": "raw",
   "metadata": {},
   "source": [
    "models_fwd = pd.DataFrame(columns=[\"model\", \"RSS\", \"Train MSE\", \"Test MSE\"])\n",
    "\n",
    "\n",
    "\n",
    "tic = time.time()\n",
    "predictors = ['const']\n",
    "#predictors.append(X.)\n",
    "\n",
    "for i in range(1,len(X.columns[1:-1])+1):    \n",
    "    models_fwd.loc[i] = forward(predictors)\n",
    "    predictors = models_fwd.loc[i][\"model\"].model.exog_names\n",
    "\n",
    "toc = time.time()\n",
    "print(\"Total elapsed time:\", (toc-tic), \"seconds.\")"
   ]
  },
  {
   "cell_type": "raw",
   "metadata": {},
   "source": [
    "#print(models_best.loc[6, \"model\"].summary())\n",
    "#print()\n",
    "print(models_fwd.loc[6, \"model\"].summary())"
   ]
  },
  {
   "cell_type": "raw",
   "metadata": {},
   "source": [
    "plotFeatureSelection(models_fwd)"
   ]
  },
  {
   "cell_type": "raw",
   "metadata": {},
   "source": [
    "#models_best.loc[2, \"model\"].rsquared\n",
    "\n",
    "# Gets the second element from each row ('model') and pulls out its rsquared attribute\n",
    "models_fwd.apply(lambda row: row[0].rsquared, axis=1)"
   ]
  },
  {
   "cell_type": "markdown",
   "metadata": {},
   "source": [
    "OPTION 3, backwards selection"
   ]
  },
  {
   "cell_type": "raw",
   "metadata": {},
   "source": [
    "def backward(predictors):\n",
    "    \n",
    "    tic = time.time()\n",
    "    \n",
    "    results = []\n",
    "    \n",
    "    for combo in itertools.combinations(predictors, len(predictors)-2):\n",
    "        results.append(processSubset(combo))\n",
    "    \n",
    "    # Wrap everything up in a nice dataframe\n",
    "    models = pd.DataFrame(results)\n",
    "    \n",
    "    # Choose the model with the highest RSS\n",
    "    best_model = models.loc[models['RSS'].idxmin()]\n",
    "    \n",
    "    toc = time.time()\n",
    "    print(\"Processed \", models.shape[0], \"models on\", len(predictors)-1, \"predictors in\", (round(toc-tic,3)), \"seconds.\")\n",
    "    \n",
    "    # Return the best model, along with some other useful information about the model\n",
    "    return best_model"
   ]
  },
  {
   "cell_type": "raw",
   "metadata": {},
   "source": [
    "models_bwd = pd.DataFrame(columns=[\"model\", \"RSS\", \"Train MSE\", \"Test MSE\"])#, \n",
    "                          #index = range(1,len(X.columns)))\n",
    "\n",
    "tic = time.time()\n",
    "predictors = X.columns[1:-1]\n",
    "\n",
    "while(len(predictors) > 1):  \n",
    "    models_bwd.loc[len(predictors)-1] = backward(predictors)\n",
    "    predictors = models_bwd.loc[len(predictors)-1][\"model\"].model.exog_names\n",
    "\n",
    "toc = time.time()\n",
    "print(\"Total elapsed time:\", (toc-tic), \"seconds.\")"
   ]
  },
  {
   "cell_type": "raw",
   "metadata": {},
   "source": [
    "print(models_bwd.loc[6, \"model\"].summary())"
   ]
  },
  {
   "cell_type": "raw",
   "metadata": {},
   "source": [
    "for model, name in zip([models_fwd, models_bwd], ['Forward Selection', 'Backward Selection']):\n",
    "    print(\"\\n------------\")\n",
    "    print(name)\n",
    "    print(\"------------\")\n",
    "    print(model.loc[7, \"model\"].params.sort_index())"
   ]
  },
  {
   "cell_type": "raw",
   "metadata": {},
   "source": [
    "plotFeatureSelection(models_bwd)"
   ]
  },
  {
   "cell_type": "raw",
   "metadata": {},
   "source": [
    "#This doesnt work for some reason as intended\n",
    "\n",
    "#models_best.loc[2, \"model\"].rsquared\n",
    "\n",
    "# Gets the second element from each row ('model') and pulls out its rsquared attribute\n",
    "#models_bwd.apply(lambda row: row[0].rsquared, axis=1)"
   ]
  },
  {
   "cell_type": "markdown",
   "metadata": {},
   "source": [
    "OPTION 4, Ridge regression"
   ]
  },
  {
   "cell_type": "code",
   "execution_count": 12,
   "metadata": {},
   "outputs": [],
   "source": [
    "np.set_printoptions(suppress=True, precision=2)"
   ]
  },
  {
   "cell_type": "code",
   "execution_count": 13,
   "metadata": {},
   "outputs": [
    {
     "data": {
      "text/plain": [
       "array([5.00e+09, 3.78e+09, 2.86e+09, 2.16e+09, 1.64e+09, 1.24e+09,\n",
       "       9.37e+08, 7.09e+08, 5.36e+08, 4.06e+08, 3.07e+08, 2.32e+08,\n",
       "       1.76e+08, 1.33e+08, 1.00e+08, 7.60e+07, 5.75e+07, 4.35e+07,\n",
       "       3.29e+07, 2.49e+07, 1.88e+07, 1.42e+07, 1.08e+07, 8.15e+06,\n",
       "       6.16e+06, 4.66e+06, 3.53e+06, 2.67e+06, 2.02e+06, 1.53e+06,\n",
       "       1.16e+06, 8.74e+05, 6.61e+05, 5.00e+05, 3.78e+05, 2.86e+05,\n",
       "       2.16e+05, 1.64e+05, 1.24e+05, 9.37e+04, 7.09e+04, 5.36e+04,\n",
       "       4.06e+04, 3.07e+04, 2.32e+04, 1.76e+04, 1.33e+04, 1.00e+04,\n",
       "       7.60e+03, 5.75e+03, 4.35e+03, 3.29e+03, 2.49e+03, 1.88e+03,\n",
       "       1.42e+03, 1.08e+03, 8.15e+02, 6.16e+02, 4.66e+02, 3.53e+02,\n",
       "       2.67e+02, 2.02e+02, 1.53e+02, 1.16e+02, 8.74e+01, 6.61e+01,\n",
       "       5.00e+01, 3.78e+01, 2.86e+01, 2.16e+01, 1.64e+01, 1.24e+01,\n",
       "       9.37e+00, 7.09e+00, 5.36e+00, 4.06e+00, 3.07e+00, 2.32e+00,\n",
       "       1.76e+00, 1.33e+00, 1.00e+00, 7.60e-01, 5.75e-01, 4.35e-01,\n",
       "       3.29e-01, 2.49e-01, 1.88e-01, 1.42e-01, 1.08e-01, 8.15e-02,\n",
       "       6.16e-02, 4.66e-02, 3.53e-02, 2.67e-02, 2.02e-02, 1.53e-02,\n",
       "       1.16e-02, 8.74e-03, 6.61e-03, 5.00e-03])"
      ]
     },
     "execution_count": 13,
     "metadata": {},
     "output_type": "execute_result"
    }
   ],
   "source": [
    "alphas = 10**np.linspace(10,-2,100)*0.5\n",
    "alphas"
   ]
  },
  {
   "cell_type": "code",
   "execution_count": 14,
   "metadata": {},
   "outputs": [
    {
     "data": {
      "image/png": "[encoded data removed]",
      "text/plain": [
       "<Figure size 432x288 with 1 Axes>"
      ]
     },
     "metadata": {
      "needs_background": "light"
     },
     "output_type": "display_data"
    }
   ],
   "source": [
    "plt.plot(alphas)\n",
    "plt.ylabel('alpha value');"
   ]
  },
  {
   "cell_type": "code",
   "execution_count": 15,
   "metadata": {},
   "outputs": [
    {
     "data": {
      "text/plain": [
       "(100, 43)"
      ]
     },
     "execution_count": 15,
     "metadata": {},
     "output_type": "execute_result"
    }
   ],
   "source": [
    "ridge = Ridge(normalize = True)\n",
    "coefs = []\n",
    "\n",
    "for a in alphas:\n",
    "    ridge.set_params(alpha = a)\n",
    "    ridge.fit(X_train, y_train)\n",
    "    coefs.append(ridge.coef_)\n",
    "    \n",
    "np.shape(coefs)"
   ]
  },
  {
   "cell_type": "code",
   "execution_count": 16,
   "metadata": {},
   "outputs": [
    {
     "data": {
      "image/png": "[encoded data removed]",
      "text/plain": [
       "<Figure size 432x288 with 1 Axes>"
      ]
     },
     "metadata": {
      "needs_background": "light"
     },
     "output_type": "display_data"
    }
   ],
   "source": [
    "ax = plt.gca()\n",
    "ax.plot(alphas, coefs)\n",
    "ax.set_xscale('log')\n",
    "plt.axis('tight')\n",
    "plt.xlabel('alpha')\n",
    "plt.ylabel('weights');"
   ]
  },
  {
   "cell_type": "raw",
   "metadata": {},
   "source": [
    "#Random testing\n",
    "\n",
    "ridge2 = Ridge(alpha = 4, normalize = True).fit(X_train, y_train) # Fit a ridge regression on the training data\n",
    "pred2 = ridge2.predict(X_test) # Use this model to predict the test data\n",
    "print(pd.Series(ridge2.coef_, index = X.columns)) # Print coefficients\n",
    "\n",
    "print('\\nTraining MSE: ' + str(round(mean_squared_error(y_train, ridge2.predict(X_train)), 0)))\n",
    "print('\\nTest MSE:     ' + str(round(mean_squared_error(y_test, ridge2.predict(X_test)), 0)))"
   ]
  },
  {
   "cell_type": "raw",
   "metadata": {},
   "source": [
    "#Random testing\n",
    "\n",
    "ridge3 = Ridge(alpha = 10**10, normalize = True)\n",
    "ridge3.fit(X_train, y_train)             # Fit a ridge regression on the training data\n",
    "pred3 = ridge3.predict(X_test)           # Use this model to predict the test data\n",
    "print(pd.Series(ridge3.coef_, index = X.columns)) # Print coefficients\n",
    "print('\\nTraining MSE: ' + str(round(mean_squared_error(y_train, ridge3.predict(X_train)), 0)))\n",
    "print('\\nTest MSE:     ' + str(round(mean_squared_error(y_test, ridge3.predict(X_test)), 0)))"
   ]
  },
  {
   "cell_type": "raw",
   "metadata": {},
   "source": [
    "#Random testing\n",
    "\n",
    "ridge4 = Ridge(alpha = 0, normalize = True).fit(X_train, y_train)             # Fit a ridge regression on the training data\n",
    "pred = ridge4.predict(X_test)            # Use this model to predict the test data\n",
    "print(pd.Series(ridge4.coef_, index = X.columns)) # Print coefficients\n",
    "print('\\nTraining MSE: ' + str(round(mean_squared_error(y_train, ridge4.predict(X_train)), 0)))\n",
    "print('\\nTest MSE:     ' + str(round(mean_squared_error(y_test, ridge4.predict(X_test)), 0)))"
   ]
  },
  {
   "cell_type": "code",
   "execution_count": 17,
   "metadata": {},
   "outputs": [
    {
     "data": {
      "text/plain": [
       "0.08148754173103201"
      ]
     },
     "execution_count": 17,
     "metadata": {},
     "output_type": "execute_result"
    }
   ],
   "source": [
    "ridgecv = RidgeCV(alphas = alphas, scoring = 'neg_mean_squared_error', normalize = True)\n",
    "ridgecv.fit(X_train, y_train)\n",
    "ridgecv.alpha_"
   ]
  },
  {
   "cell_type": "code",
   "execution_count": 18,
   "metadata": {},
   "outputs": [
    {
     "name": "stdout",
     "output_type": "stream",
     "text": [
      "\n",
      "Training MSE: 1.0\n",
      "\n",
      "Test MSE:    1.0\n"
     ]
    }
   ],
   "source": [
    "ridge5 = Ridge(alpha = ridgecv.alpha_, normalize = True).fit(X_train, y_train)\n",
    "mean_squared_error(y_test, ridge5.predict(X_test))\n",
    "print('\\nTraining MSE: ' + str(round(mean_squared_error(y_train, ridge5.predict(X_train)), 0)))\n",
    "print('\\nTest MSE:    ' + str(round(mean_squared_error(y_test, ridge5.predict(X_test)), 0)))"
   ]
  },
  {
   "cell_type": "code",
   "execution_count": 19,
   "metadata": {
    "scrolled": false
   },
   "outputs": [
    {
     "data": {
      "text/plain": [
       "const                   0.000000e+00\n",
       "CO_COUNTRY              5.275761e-02\n",
       "BUDGET                  3.051241e-08\n",
       "TOTAL_SUPPORT          -1.185294e-06\n",
       "PRODUCTION_SUPPORT      2.549274e-06\n",
       "DISTRIBUTION_SUPPORT    3.845924e-05\n",
       "NAME_LENGTH             2.193783e-03\n",
       "PREMIERE_1             -9.425986e-02\n",
       "PREMIERE_2              1.668844e-01\n",
       "PREMIERE_3             -1.981267e-01\n",
       "PREMIERE_4              3.967718e-01\n",
       "PREMIERE_5             -6.466424e-01\n",
       "PREMIERE_6             -1.727846e-01\n",
       "PREMIERE_7             -1.199112e+00\n",
       "PREMIERE_8             -2.558490e-01\n",
       "PREMIERE_9              2.365028e-01\n",
       "PREMIERE_10             9.909286e-04\n",
       "PREMIERE_11            -9.468255e-02\n",
       "PREMIERE_12             4.648441e-01\n",
       "Action                  1.097452e+00\n",
       "Adventure              -4.686051e-02\n",
       "Animation               8.703089e-01\n",
       "Biography               1.252624e-01\n",
       "Comedy                  3.321697e-01\n",
       "Crime                   4.730181e-01\n",
       "Documentary             8.642276e-02\n",
       "Drama                  -1.838405e-01\n",
       "Family                  2.200266e-02\n",
       "Fantasy                 2.841421e-02\n",
       "History                -2.940369e-01\n",
       "Horror                 -1.281034e-01\n",
       "Music                   2.604540e-01\n",
       "Musical                 1.010099e-01\n",
       "Mystery                 7.089208e-01\n",
       "Romance                 1.158945e-02\n",
       "Sci-Fi                 -1.431484e+00\n",
       "Sport                  -2.764589e-01\n",
       "Thriller               -6.206645e-01\n",
       "War                     7.518472e-01\n",
       "LENGTH60               -1.133905e+00\n",
       "LENGTH90               -1.427470e-01\n",
       "LENGTH120              -2.526976e-02\n",
       "LENGTH180               3.858347e-01\n",
       "dtype: float64"
      ]
     },
     "execution_count": 19,
     "metadata": {},
     "output_type": "execute_result"
    }
   ],
   "source": [
    "# Some of the coefficients are now reduced to exactly zero.\n",
    "pd.Series(ridge.coef_, index=X.columns)"
   ]
  },
  {
   "cell_type": "code",
   "execution_count": 20,
   "metadata": {},
   "outputs": [
    {
     "data": {
      "text/plain": [
       "Action                  1.097452e+00\n",
       "Animation               8.703089e-01\n",
       "War                     7.518472e-01\n",
       "Mystery                 7.089208e-01\n",
       "Crime                   4.730181e-01\n",
       "PREMIERE_12             4.648441e-01\n",
       "PREMIERE_4              3.967718e-01\n",
       "LENGTH180               3.858347e-01\n",
       "Comedy                  3.321697e-01\n",
       "Music                   2.604540e-01\n",
       "PREMIERE_9              2.365028e-01\n",
       "PREMIERE_2              1.668844e-01\n",
       "Biography               1.252624e-01\n",
       "Musical                 1.010099e-01\n",
       "Documentary             8.642276e-02\n",
       "CO_COUNTRY              5.275761e-02\n",
       "Fantasy                 2.841421e-02\n",
       "Family                  2.200266e-02\n",
       "Romance                 1.158945e-02\n",
       "NAME_LENGTH             2.193783e-03\n",
       "PREMIERE_10             9.909286e-04\n",
       "DISTRIBUTION_SUPPORT    3.845924e-05\n",
       "PRODUCTION_SUPPORT      2.549274e-06\n",
       "BUDGET                  3.051241e-08\n",
       "TOTAL_SUPPORT          -1.185294e-06\n",
       "LENGTH120              -2.526976e-02\n",
       "Adventure              -4.686051e-02\n",
       "PREMIERE_1             -9.425986e-02\n",
       "PREMIERE_11            -9.468255e-02\n",
       "Horror                 -1.281034e-01\n",
       "LENGTH90               -1.427470e-01\n",
       "PREMIERE_6             -1.727846e-01\n",
       "Drama                  -1.838405e-01\n",
       "PREMIERE_3             -1.981267e-01\n",
       "PREMIERE_8             -2.558490e-01\n",
       "Sport                  -2.764589e-01\n",
       "History                -2.940369e-01\n",
       "Thriller               -6.206645e-01\n",
       "PREMIERE_5             -6.466424e-01\n",
       "LENGTH60               -1.133905e+00\n",
       "PREMIERE_7             -1.199112e+00\n",
       "Sci-Fi                 -1.431484e+00\n",
       "dtype: float64"
      ]
     },
     "execution_count": 20,
     "metadata": {},
     "output_type": "execute_result"
    }
   ],
   "source": [
    "zr = pd.Series(ridge.coef_, index=X.columns)\n",
    "zrr = zr[zr!=0]\n",
    "zrr = zrr.sort_values(ascending=False)\n",
    "zrr"
   ]
  },
  {
   "cell_type": "markdown",
   "metadata": {},
   "source": [
    "OPTION 5, Lasso"
   ]
  },
  {
   "cell_type": "code",
   "execution_count": 21,
   "metadata": {},
   "outputs": [
    {
     "data": {
      "image/png": "[encoded data removed]",
      "text/plain": [
       "<Figure size 432x288 with 1 Axes>"
      ]
     },
     "metadata": {
      "needs_background": "light"
     },
     "output_type": "display_data"
    }
   ],
   "source": [
    "lasso = Lasso(max_iter = 10000, normalize = True)\n",
    "coefs = []\n",
    "\n",
    "for a in alphas:\n",
    "    lasso.set_params(alpha=a)\n",
    "    lasso.fit(scale(X_train.astype(float)), y_train)\n",
    "    coefs.append(lasso.coef_)\n",
    "    \n",
    "ax = plt.gca()\n",
    "ax.plot(alphas*2, coefs)\n",
    "ax.set_xscale('log')\n",
    "plt.axis('tight')\n",
    "plt.xlabel('alpha')\n",
    "plt.ylabel('weights');"
   ]
  },
  {
   "cell_type": "code",
   "execution_count": 22,
   "metadata": {},
   "outputs": [
    {
     "name": "stdout",
     "output_type": "stream",
     "text": [
      "\n",
      "Training MSE: 1.0\n",
      "\n",
      "Test MSE:    1.0\n"
     ]
    }
   ],
   "source": [
    "lassocv = LassoCV(alphas = alphas, cv = 10, max_iter = 100000, normalize = True)\n",
    "lassocv.fit(X_train, y_train)\n",
    "\n",
    "lasso.set_params(alpha=lassocv.alpha_)\n",
    "lasso.fit(X_train, y_train)\n",
    "print('\\nTraining MSE: ' + str(round(mean_squared_error(y_train, lasso.predict(X_train)), 0)))\n",
    "print('\\nTest MSE:    ' + str(round(mean_squared_error(y_test, lasso.predict(X_test)), 0)))"
   ]
  },
  {
   "cell_type": "code",
   "execution_count": 23,
   "metadata": {},
   "outputs": [
    {
     "data": {
      "text/plain": [
       "0.005"
      ]
     },
     "execution_count": 23,
     "metadata": {},
     "output_type": "execute_result"
    }
   ],
   "source": [
    "lassocv.alpha_"
   ]
  },
  {
   "cell_type": "code",
   "execution_count": 24,
   "metadata": {},
   "outputs": [
    {
     "data": {
      "text/plain": [
       "const                   0.000000e+00\n",
       "CO_COUNTRY             -0.000000e+00\n",
       "BUDGET                  1.645191e-09\n",
       "TOTAL_SUPPORT           0.000000e+00\n",
       "PRODUCTION_SUPPORT      1.076910e-06\n",
       "DISTRIBUTION_SUPPORT    3.984629e-05\n",
       "NAME_LENGTH             0.000000e+00\n",
       "PREMIERE_1              0.000000e+00\n",
       "PREMIERE_2              0.000000e+00\n",
       "PREMIERE_3             -2.323596e-03\n",
       "PREMIERE_4              0.000000e+00\n",
       "PREMIERE_5             -6.362259e-02\n",
       "PREMIERE_6             -0.000000e+00\n",
       "PREMIERE_7             -5.947839e-01\n",
       "PREMIERE_8             -0.000000e+00\n",
       "PREMIERE_9              7.713069e-02\n",
       "PREMIERE_10             0.000000e+00\n",
       "PREMIERE_11            -0.000000e+00\n",
       "PREMIERE_12             2.299654e-01\n",
       "Action                  4.498470e-01\n",
       "Adventure               0.000000e+00\n",
       "Animation               2.623390e-01\n",
       "Biography               0.000000e+00\n",
       "Comedy                  9.179404e-02\n",
       "Crime                   4.954065e-02\n",
       "Documentary            -0.000000e+00\n",
       "Drama                  -8.240415e-04\n",
       "Family                  0.000000e+00\n",
       "Fantasy                 0.000000e+00\n",
       "History                -0.000000e+00\n",
       "Horror                 -0.000000e+00\n",
       "Music                   0.000000e+00\n",
       "Musical                 0.000000e+00\n",
       "Mystery                 0.000000e+00\n",
       "Romance                 0.000000e+00\n",
       "Sci-Fi                 -0.000000e+00\n",
       "Sport                  -0.000000e+00\n",
       "Thriller               -0.000000e+00\n",
       "War                     1.440132e-01\n",
       "LENGTH60               -0.000000e+00\n",
       "LENGTH90               -0.000000e+00\n",
       "LENGTH120              -0.000000e+00\n",
       "LENGTH180               1.271932e-01\n",
       "dtype: float64"
      ]
     },
     "execution_count": 24,
     "metadata": {},
     "output_type": "execute_result"
    }
   ],
   "source": [
    "# Some of the coefficients are now reduced to exactly zero.\n",
    "pd.Series(lasso.coef_, index=X.columns)"
   ]
  },
  {
   "cell_type": "code",
   "execution_count": 25,
   "metadata": {},
   "outputs": [
    {
     "data": {
      "text/plain": [
       "Action                  4.498470e-01\n",
       "Animation               2.623390e-01\n",
       "PREMIERE_12             2.299654e-01\n",
       "War                     1.440132e-01\n",
       "LENGTH180               1.271932e-01\n",
       "Comedy                  9.179404e-02\n",
       "PREMIERE_9              7.713069e-02\n",
       "Crime                   4.954065e-02\n",
       "DISTRIBUTION_SUPPORT    3.984629e-05\n",
       "PRODUCTION_SUPPORT      1.076910e-06\n",
       "BUDGET                  1.645191e-09\n",
       "Drama                  -8.240415e-04\n",
       "PREMIERE_3             -2.323596e-03\n",
       "PREMIERE_5             -6.362259e-02\n",
       "PREMIERE_7             -5.947839e-01\n",
       "dtype: float64"
      ]
     },
     "execution_count": 25,
     "metadata": {},
     "output_type": "execute_result"
    }
   ],
   "source": [
    "z = pd.Series(lasso.coef_, index=X.columns)\n",
    "zl = z[z!=0]\n",
    "zl = zl.sort_values(ascending=False)\n",
    "zl"
   ]
  },
  {
   "cell_type": "code",
   "execution_count": 26,
   "metadata": {},
   "outputs": [],
   "source": [
    "indices = np.argsort(z)[::-1]\n",
    "feature_order = np.array([X.columns.values])\n",
    "i = np.argsort(z)[::-1]\n",
    "feature_order = feature_order[:,i]"
   ]
  },
  {
   "cell_type": "code",
   "execution_count": 27,
   "metadata": {},
   "outputs": [
    {
     "data": {
      "image/png": "[encoded data removed]",
      "text/plain": [
       "<Figure size 432x288 with 1 Axes>"
      ]
     },
     "metadata": {
      "needs_background": "light"
     },
     "output_type": "display_data"
    }
   ],
   "source": [
    "# Print the feature ranking\n",
    "#print(\"Feature ranking:\")\n",
    "\n",
    "#for f in range(X.shape[1]):\n",
    "#    print(\"%d. feature %d (%f)\" % (f + 1, indices[f], importances[indices[f]]))\n",
    "    \n",
    "# Plot the feature importances of the forest\n",
    "plt.figure()\n",
    "plt.title(\"Relative feature importances\")\n",
    "plt.bar(range(X.shape[1]), z[indices],\n",
    "       color=\"b\",  align=\"center\")\n",
    "plt.xticks(range(X.shape[1]), feature_order[0], rotation=90)\n",
    "plt.xlim([-1, X.shape[1]])\n",
    "plt.show()"
   ]
  },
  {
   "cell_type": "code",
   "execution_count": 28,
   "metadata": {},
   "outputs": [],
   "source": [
    "indices = np.argsort(zr)[::-1]\n",
    "feature_order = np.array([X.columns.values])\n",
    "i = np.argsort(zr)[::-1]\n",
    "feature_order = feature_order[:,i]"
   ]
  },
  {
   "cell_type": "code",
   "execution_count": 29,
   "metadata": {},
   "outputs": [
    {
     "data": {
      "image/png": "[encoded data removed]",
      "text/plain": [
       "<Figure size 432x288 with 1 Axes>"
      ]
     },
     "metadata": {
      "needs_background": "light"
     },
     "output_type": "display_data"
    }
   ],
   "source": [
    "# Print the feature ranking\n",
    "#print(\"Feature ranking:\")\n",
    "\n",
    "#for f in range(X.shape[1]):\n",
    "#    print(\"%d. feature %d (%f)\" % (f + 1, indices[f], importances[indices[f]]))\n",
    "    \n",
    "# Plot the feature importances of the forest\n",
    "plt.figure()\n",
    "plt.title(\"Relative feature importances\")\n",
    "plt.bar(range(X.shape[1]), zr[indices],\n",
    "       color=\"b\",  align=\"center\")\n",
    "plt.xticks(range(X.shape[1]), feature_order[0], rotation=90)\n",
    "plt.xlim([-1, X.shape[1]])\n",
    "plt.show()"
   ]
  },
  {
   "cell_type": "code",
   "execution_count": null,
   "metadata": {},
   "outputs": [],
   "source": []
  }
 ],
 "metadata": {
  "kernelspec": {
   "display_name": "Python 3",
   "language": "python",
   "name": "python3"
  },
  "language_info": {
   "codemirror_mode": {
    "name": "ipython",
    "version": 3
   },
   "file_extension": ".py",
   "mimetype": "text/x-python",
   "name": "python",
   "nbconvert_exporter": "python",
   "pygments_lexer": "ipython3",
   "version": "3.7.3"
  },
  "varInspector": {
   "cols": {
    "lenName": 16,
    "lenType": 16,
    "lenVar": 40
   },
   "kernels_config": {
    "python": {
     "delete_cmd_postfix": "",
     "delete_cmd_prefix": "del ",
     "library": "var_list.py",
     "varRefreshCmd": "print(var_dic_list())"
    },
    "r": {
     "delete_cmd_postfix": ") ",
     "delete_cmd_prefix": "rm(",
     "library": "var_list.r",
     "varRefreshCmd": "cat(var_dic_list()) "
    }
   },
   "types_to_exclude": [
    "module",
    "function",
    "builtin_function_or_method",
    "instance",
    "_Feature"
   ],
   "window_display": false
  }
 },
 "nbformat": 4,
 "nbformat_minor": 2
}
